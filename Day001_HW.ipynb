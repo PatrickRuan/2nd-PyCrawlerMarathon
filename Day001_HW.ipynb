{
  "nbformat": 4,
  "nbformat_minor": 0,
  "metadata": {
    "kernelspec": {
      "display_name": "Python 3",
      "language": "python",
      "name": "python3"
    },
    "language_info": {
      "codemirror_mode": {
        "name": "ipython",
        "version": 3
      },
      "file_extension": ".py",
      "mimetype": "text/x-python",
      "name": "python",
      "nbconvert_exporter": "python",
      "pygments_lexer": "ipython3",
      "version": "3.6.5"
    },
    "colab": {
      "name": "Day001_HW.ipynb",
      "provenance": [],
      "include_colab_link": true
    }
  },
  "cells": [
    {
      "cell_type": "markdown",
      "metadata": {
        "id": "view-in-github",
        "colab_type": "text"
      },
      "source": [
        "<a href=\"https://colab.research.google.com/github/PatrickRuan/2nd-PyCrawlerMarathon/blob/master/Day001_HW.ipynb\" target=\"_parent\"><img src=\"https://colab.research.google.com/assets/colab-badge.svg\" alt=\"Open In Colab\"/></a>"
      ]
    },
    {
      "cell_type": "markdown",
      "metadata": {
        "id": "DdgNdbQfDsWk",
        "colab_type": "text"
      },
      "source": [
        "# 資料來源與檔案存取\n",
        "\n",
        "* 資料來源與取得\n",
        "* 開放資料\n",
        "* 資料儲存格式\n",
        "* Python 存取檔案"
      ]
    },
    {
      "cell_type": "markdown",
      "metadata": {
        "id": "PbwqvxBbDsWm",
        "colab_type": "text"
      },
      "source": [
        "## 作業目標\n",
        "\n",
        "* 1.（簡答題）檔案、API、爬蟲三種取得資料方式有什麼不同？\n",
        "* 2.（實作）完成一個程式，需滿足下列需求：\n",
        "    * 下載指定檔案到 Data 資料夾，存成檔名 Homework.txt\n",
        "    * 檢查 Data 資料夾是否有 Homework.txt 檔名之檔案\n",
        "    * 將「Hello World」字串覆寫到 Homework.txt 檔案\n",
        "    * 檢查 Homework.txt 檔案字數是否符合 Hello World 字數\n"
      ]
    },
    {
      "cell_type": "markdown",
      "metadata": {
        "id": "8CRJjF-KDsWn",
        "colab_type": "text"
      },
      "source": [
        "### 1.（簡答題）檔案、API、爬蟲三種取得資料方式有什麼不同？"
      ]
    },
    {
      "cell_type": "markdown",
      "metadata": {
        "id": "fqQqQWd-DsWn",
        "colab_type": "text"
      },
      "source": [
        "### 2.（實作）完成一個程式，需滿足下列需求：\n",
        "    * 下載指定檔案到 Data 資料夾，存成檔名 Homework.txt\n",
        "    * 檢查 Data 資料夾是否有 Homework.txt 檔名之檔案\n",
        "    * 將「Hello World」字串覆寫到 Homework.txt 檔案\n",
        "    * 檢查 Homework.txt 檔案字數是否符合 Hello World 字數\n"
      ]
    },
    {
      "cell_type": "code",
      "metadata": {
        "id": "E5V0xwuhDsWo",
        "colab_type": "code",
        "colab": {}
      },
      "source": [
        "# 根據需求引入正確的 Library\n",
        "\n",
        "from urllib.request import urlretrieve\n",
        "import os"
      ],
      "execution_count": 0,
      "outputs": []
    },
    {
      "cell_type": "code",
      "metadata": {
        "id": "HDb4LUN_DsWs",
        "colab_type": "code",
        "colab": {}
      },
      "source": [
        "# 下載檔案到 Data 資料夾，存成檔名 Homework.txt\n",
        "\n",
        "try:\n",
        "    os.makedirs( './Data', exist_ok=True )\n",
        "    '''\n",
        "    Your Code\n",
        "    '''\n",
        "except:\n",
        "    print('發生錯誤！')"
      ],
      "execution_count": 0,
      "outputs": []
    },
    {
      "cell_type": "code",
      "metadata": {
        "id": "eTEVsh6ADsWv",
        "colab_type": "code",
        "colab": {},
        "outputId": "2963b4b1-0d24-4123-9061-1626b5dc459a"
      },
      "source": [
        "# 檢查 Data 資料夾是否有 Homework.txt 檔名之檔案\n",
        "\n",
        "files = []\n",
        "\n",
        "'''\n",
        "Your Code\n",
        "'''\n",
        "\n",
        "if 'Homework.txt' in files:\n",
        "    print('[O] 檢查 Data 資料夾是否有 Homework.txt 檔名之檔案')\n",
        "else:\n",
        "    print('[X] 檢查 Data 資料夾是否有 Homework.txt 檔名之檔案')"
      ],
      "execution_count": 0,
      "outputs": [
        {
          "output_type": "stream",
          "text": [
            "[X] 檢查 Data 資料夾是否有 Homework.txt 檔名之檔案\n"
          ],
          "name": "stdout"
        }
      ]
    },
    {
      "cell_type": "code",
      "metadata": {
        "id": "BeLQSWGODsWz",
        "colab_type": "code",
        "colab": {}
      },
      "source": [
        "# 將「Hello World」字串覆寫到 Homework.txt 檔案\n",
        "\n",
        "f = ''\n",
        "\n",
        "with open(\"./Data/Homework.txt\", \"w\") as fh:\n",
        "    '''\n",
        "    Your Code\n",
        "    '''\n",
        "\n",
        "try:\n",
        "    with open(\"./Data/Homework.txt\", \"r\") as fh:\n",
        "        '''\n",
        "        Your Code\n",
        "        '''\n",
        "except EnvironmentError: # parent of IOError, OSError *and* WindowsError where available\n",
        "    pass    \n",
        "    \n"
      ],
      "execution_count": 0,
      "outputs": []
    },
    {
      "cell_type": "code",
      "metadata": {
        "scrolled": true,
        "id": "wnqR8Ij1DsW1",
        "colab_type": "code",
        "colab": {},
        "outputId": "afc5d9d3-44ad-456f-dd4a-7aaa679847a1"
      },
      "source": [
        "# 檢查 Homework.txt 檔案字數是否符合 Hello World 字數\n",
        "\n",
        "if len('Hello World') == len(f):\n",
        "    print('[O] 檢查 Homework.txt 檔案字數是否符合 Hello World 字數')\n",
        "else:\n",
        "    print('[X] 檢查 Homework.txt 檔案字數是否符合 Hello World 字數')"
      ],
      "execution_count": 0,
      "outputs": [
        {
          "output_type": "stream",
          "text": [
            "[X] 檢查 Homework.txt 檔案字數是否符合 Hello World 字數\n"
          ],
          "name": "stdout"
        }
      ]
    },
    {
      "cell_type": "code",
      "metadata": {
        "id": "SSFo-c0RDsW4",
        "colab_type": "code",
        "colab": {}
      },
      "source": [
        ""
      ],
      "execution_count": 0,
      "outputs": []
    },
    {
      "cell_type": "code",
      "metadata": {
        "id": "WxAD2OPwDsW7",
        "colab_type": "code",
        "colab": {}
      },
      "source": [
        ""
      ],
      "execution_count": 0,
      "outputs": []
    },
    {
      "cell_type": "code",
      "metadata": {
        "id": "UG4Hau4fDsW-",
        "colab_type": "code",
        "colab": {}
      },
      "source": [
        ""
      ],
      "execution_count": 0,
      "outputs": []
    }
  ]
}