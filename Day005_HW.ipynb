{
  "nbformat": 4,
  "nbformat_minor": 0,
  "metadata": {
    "kernelspec": {
      "display_name": "Python 3",
      "language": "python",
      "name": "python3"
    },
    "language_info": {
      "codemirror_mode": {
        "name": "ipython",
        "version": 3
      },
      "file_extension": ".py",
      "mimetype": "text/x-python",
      "name": "python",
      "nbconvert_exporter": "python",
      "pygments_lexer": "ipython3",
      "version": "3.6.5"
    },
    "colab": {
      "name": "Day005_HW.ipynb",
      "provenance": [],
      "include_colab_link": true
    }
  },
  "cells": [
    {
      "cell_type": "markdown",
      "metadata": {
        "id": "view-in-github",
        "colab_type": "text"
      },
      "source": [
        "<a href=\"https://colab.research.google.com/github/PatrickRuan/2nd-PyCrawlerMarathon/blob/master/Day005_HW.ipynb\" target=\"_parent\"><img src=\"https://colab.research.google.com/assets/colab-badge.svg\" alt=\"Open In Colab\"/></a>"
      ]
    },
    {
      "cell_type": "markdown",
      "metadata": {
        "id": "weVYjbQEW5Fk",
        "colab_type": "text"
      },
      "source": [
        "# API 資料串接 - 以 Dcard API 實作範例\n",
        "\n",
        "* 了解 Dcard API 使用方式與回傳內容\n",
        "* 撰寫程式存取 API 且解析 JSON 格式資料\n"
      ]
    },
    {
      "cell_type": "markdown",
      "metadata": {
        "id": "ZW56WwIVW5Fl",
        "colab_type": "text"
      },
      "source": [
        "## 作業目標\n",
        "\n",
        "* 請利用 API: https://www.dcard.tw/_api/forums/pet/posts?popular=true 回答下列問題：\n",
        "\n",
        "1. 這個 API 一次會回傳幾筆資料？每一筆資料包含哪些欄位？\n",
        "2. 取出每一筆資料的「標題」、「貼文時間」、「留言人數」、「按讚人數」\n",
        "3. 計算熱門/非熱門文章的「平均留言人數」與「平均按讚人數」"
      ]
    },
    {
      "cell_type": "code",
      "metadata": {
        "id": "98VqKTuaW5Fm",
        "colab_type": "code",
        "colab": {
          "base_uri": "https://localhost:8080/",
          "height": 34
        },
        "outputId": "78e03bcc-b354-47d5-f475-c4bbc19baac4"
      },
      "source": [
        "# 1. 這個 API 一次會回傳幾筆資料？每一筆資料包含哪些欄位？\n",
        "import requests\n",
        "r = requests.get('https://www.dcard.tw/_api/forums/pet/posts?popular=true')\n",
        "print(len(r.json()))\n"
      ],
      "execution_count": 4,
      "outputs": [
        {
          "output_type": "stream",
          "text": [
            "30\n"
          ],
          "name": "stdout"
        }
      ]
    },
    {
      "cell_type": "code",
      "metadata": {
        "id": "8BfWUuZ6W5Fr",
        "colab_type": "code",
        "colab": {
          "base_uri": "https://localhost:8080/",
          "height": 527
        },
        "outputId": "eab7604a-5716-4fec-eeb4-3e8dcdfaab6f"
      },
      "source": [
        "# 2. 取出每一筆資料的「標題」、「貼文時間」、「留言人數」、「按讚人數」\n",
        "\n",
        "r.json()[0]\n",
        "for i in r.json():\n",
        "  print(i['title'], i['likeCount'], i['createdAt'], i['commentCount'])"
      ],
      "execution_count": 5,
      "outputs": [
        {
          "output_type": "stream",
          "text": [
            "我的寵物鴨？！ 820 2020-04-04T02:43:06.496Z 37\n",
            "被假壁虎欺騙了 34 2020-04-04T23:00:46.359Z 2\n",
            "毛小孩的更衣室開箱💁🏻‍♀️ - 衣服篇 30 2020-04-04T15:36:54.166Z 11\n",
            "同學你的貓太可愛了吧 30 2020-04-03T21:05:25.565Z 1\n",
            "我的寵物鴨（2） 27 2020-04-05T06:00:54.398Z 7\n",
            "我家柯基寶貝❤❤ 17 2020-04-04T05:48:30.181Z 2\n",
            "我有胖到需要減肥嗎！？ 16 2020-04-04T12:08:57.250Z 0\n",
            "［送養］狗-花蓮/全台-曾受虐的米克斯找家 16 2020-04-04T06:27:56.085Z 0\n",
            "覺得自家貓貓真的很適合做梗圖 16 2020-04-04T00:55:02.547Z 1\n",
            "#更 #送養 兩隻一個月小貓 15 2020-04-04T07:58:01.883Z 3\n",
            "狗狗被活生生撞死。。。 13 2020-04-04T10:27:09.511Z 6\n",
            "我家的貓跟別人的就是不一樣 11 2020-04-04T16:54:04.272Z 3\n",
            "來辦一場貓貓慶生派對！ 10 2020-04-04T14:25:13.540Z 0\n",
            "我家寶寶好可愛 9 2020-04-05T03:21:38.700Z 0\n",
            "急#狗狗輪椅 9 2020-04-04T18:21:49.076Z 0\n",
            "求 限動出現的超可愛貓咪 9 2020-04-04T12:25:12.314Z 5\n",
            "如何帶貓到溫哥華（加拿大航空搭乘分享） 9 2020-04-03T23:01:47.265Z 4\n",
            "我在美國與主子隔離的日子 8 2020-04-05T02:15:50.481Z 16\n",
            "有人記得2-3年前靜宜大學附近 8 2020-04-04T22:43:08.152Z 2\n",
            "你們的貓長不長？ 8 2020-04-04T10:45:59.133Z 1\n",
            "賓士貓送養 8 2020-04-04T04:26:06.054Z 4\n",
            "高手🤣 7 2020-04-04T07:16:07.094Z 3\n",
            "為什麼你的頭都要躺在下面呢😂 7 2020-04-04T07:05:15.009Z 0\n",
            "問 法鬥的飼養注意？ 7 2020-04-04T04:58:57.578Z 3\n",
            "發問）哪裡買得到鴨子🦆？ 6 2020-04-05T03:11:28.997Z 3\n",
            "請大家給予祝福 6 2020-04-04T20:44:29.716Z 0\n",
            "跟風一波！紙壁虎！！ 6 2020-04-04T13:15:56.578Z 1\n",
            "你算什麼東西 6 2020-04-04T03:54:29.602Z 1\n",
            "這是在撒嬌嗎♡ 6 2020-04-04T03:48:43.107Z 2\n",
            "尋狗 5 2020-04-04T17:58:14.893Z 0\n"
          ],
          "name": "stdout"
        }
      ]
    },
    {
      "cell_type": "code",
      "metadata": {
        "id": "Or0kCWQ7W5Ft",
        "colab_type": "code",
        "colab": {
          "base_uri": "https://localhost:8080/",
          "height": 51
        },
        "outputId": "9eeb2210-e51f-424e-86f7-efdcd672e0fa"
      },
      "source": [
        "# 3. 計算熱門/非熱門文章的「平均留言人數」與「平均按讚人數」\n",
        "r = requests.get('https://www.dcard.tw/_api/forums/job/posts?popular=true')\n",
        "comments = 0\n",
        "likes = 0\n",
        "for i in r.json():\n",
        "    comments += i['commentCount']\n",
        "    likes += i['likeCount']\n",
        "\n",
        "print('popular:', comments/len(r.json()), likes/len(r.json()))\n",
        "\n",
        "r = requests.get('https://www.dcard.tw/_api/forums/job/posts?popular=false')\n",
        "\n",
        "comments = 0\n",
        "likes = 0\n",
        "for i in r.json():\n",
        "    comments += i['commentCount']\n",
        "    likes += i['likeCount']\n",
        "\n",
        "print('unpopular', comments/len(r.json()), likes/len(r.json()))\n"
      ],
      "execution_count": 9,
      "outputs": [
        {
          "output_type": "stream",
          "text": [
            "popular: 8.466666666666667 28.1\n",
            "unpopular 4.0 2.8333333333333335\n"
          ],
          "name": "stdout"
        }
      ]
    },
    {
      "cell_type": "code",
      "metadata": {
        "id": "w5s6tx4PW5F0",
        "colab_type": "code",
        "colab": {}
      },
      "source": [
        ""
      ],
      "execution_count": 0,
      "outputs": []
    },
    {
      "cell_type": "code",
      "metadata": {
        "id": "hp_pEHZjW5F2",
        "colab_type": "code",
        "colab": {}
      },
      "source": [
        ""
      ],
      "execution_count": 0,
      "outputs": []
    }
  ]
}