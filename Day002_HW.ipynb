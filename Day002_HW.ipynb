{
  "nbformat": 4,
  "nbformat_minor": 0,
  "metadata": {
    "kernelspec": {
      "display_name": "Python 3",
      "language": "python",
      "name": "python3"
    },
    "language_info": {
      "codemirror_mode": {
        "name": "ipython",
        "version": 3
      },
      "file_extension": ".py",
      "mimetype": "text/x-python",
      "name": "python",
      "nbconvert_exporter": "python",
      "pygments_lexer": "ipython3",
      "version": "3.6.5"
    },
    "colab": {
      "name": "Day002_HW.ipynb",
      "provenance": [],
      "include_colab_link": true
    }
  },
  "cells": [
    {
      "cell_type": "markdown",
      "metadata": {
        "id": "view-in-github",
        "colab_type": "text"
      },
      "source": [
        "<a href=\"https://colab.research.google.com/github/PatrickRuan/2nd-PyCrawlerMarathon/blob/master/Day002_HW.ipynb\" target=\"_parent\"><img src=\"https://colab.research.google.com/assets/colab-badge.svg\" alt=\"Open In Colab\"/></a>"
      ]
    },
    {
      "cell_type": "markdown",
      "metadata": {
        "id": "b3fcjij8TqsG",
        "colab_type": "text"
      },
      "source": [
        "# Python 下載CSV檔案與解析\n",
        "\n",
        "\n",
        "* 了解 csv 檔案格式與內容\n",
        "* 能夠利用套件存取 csv 格式的檔案\n",
        "\n"
      ]
    },
    {
      "cell_type": "markdown",
      "metadata": {
        "id": "nDHqXnhMTqsK",
        "colab_type": "text"
      },
      "source": [
        "## 作業目標\n",
        "\n",
        "* 比較一下範例檔案中的「File I/O」與「CSV Reader」讀出來的內容有什麼差異\n",
        "\n",
        "* 根據範例檔案的結果：\n",
        "    1. 取出班次一的每一個時間\n",
        "    2. 將班次一的每一個時間用一種資料型態保存\n",
        "    3. 將班次一到五與其所有時間用一種資料型態個別保存\n"
      ]
    },
    {
      "cell_type": "markdown",
      "metadata": {
        "id": "CfN6yi8HTqsN",
        "colab_type": "text"
      },
      "source": [
        "### 比較一下範例檔案中的「File I/O」與「CSV Reader」讀出來的內容有什麼差異"
      ]
    },
    {
      "cell_type": "code",
      "metadata": {
        "id": "nShwmHuuTqsQ",
        "colab_type": "code",
        "outputId": "6c5ca554-1ab5-424f-e0ea-c7c1e82ca332",
        "colab": {
          "base_uri": "https://localhost:8080/",
          "height": 34
        }
      },
      "source": [
        "'''\n",
        "File I/O ==>　String\n",
        "csv reader ==> a set of lists\n",
        "\n",
        "'''"
      ],
      "execution_count": 1,
      "outputs": [
        {
          "output_type": "execute_result",
          "data": {
            "text/plain": [
              "'\\nFile I/O ==>\\u3000String\\ncsv reader ==> a set of lists\\n\\n'"
            ]
          },
          "metadata": {
            "tags": []
          },
          "execution_count": 1
        }
      ]
    },
    {
      "cell_type": "markdown",
      "metadata": {
        "id": "mtKroqD3Tqsp",
        "colab_type": "text"
      },
      "source": [
        "### 根據範例檔案的結果：\n",
        "\n",
        "1. 取出班次一的每一個時間\n",
        "2. 將班次一的每一個時間用一種資料型態保存\n",
        "3. 將班次一到五與其所有時間用一種資料型態個別保存"
      ]
    },
    {
      "cell_type": "code",
      "metadata": {
        "id": "zUWfjpznUZ3c",
        "colab_type": "code",
        "outputId": "4e657467-2e1c-47b0-fc4e-e10c7b2e4a3b",
        "colab": {
          "base_uri": "https://localhost:8080/",
          "height": 34
        }
      },
      "source": [
        "!mkdir data\n",
        "from urllib.request import urlretrieve\n",
        "urlretrieve(\"http://opendata.hccg.gov.tw/dataset/432257df-491f-4875-8b56-dd814aee5d7b/resource/de014c8b-9b75-4152-9fc6-f0d499cefbe4/download/20150305140446074.csv\", './data/examples.csv')"
      ],
      "execution_count": 2,
      "outputs": [
        {
          "output_type": "execute_result",
          "data": {
            "text/plain": [
              "('./data/examples.csv', <http.client.HTTPMessage at 0x7fb092552e10>)"
            ]
          },
          "metadata": {
            "tags": []
          },
          "execution_count": 2
        }
      ]
    },
    {
      "cell_type": "code",
      "metadata": {
        "id": "acPkgfF5VBW3",
        "colab_type": "code",
        "outputId": "cb4c2418-70f9-4d9f-8687-5e82233be27a",
        "colab": {
          "base_uri": "https://localhost:8080/",
          "height": 34
        }
      },
      "source": [
        "!ls data"
      ],
      "execution_count": 3,
      "outputs": [
        {
          "output_type": "stream",
          "text": [
            "examples.csv\n"
          ],
          "name": "stdout"
        }
      ]
    },
    {
      "cell_type": "code",
      "metadata": {
        "id": "nSvoYMX1VEi6",
        "colab_type": "code",
        "outputId": "d3998502-210e-412c-ef7d-5daf960052f3",
        "colab": {
          "base_uri": "https://localhost:8080/",
          "height": 51
        }
      },
      "source": [
        "with open('./data/examples.csv', 'r') as f:\n",
        "  x = f.read()\n",
        "\n",
        "#print(x)\n",
        "print(type(x))\n",
        "\n",
        "import csv\n",
        "with open('./data/examples.csv') as f:\n",
        "  x = csv.reader(f)\n",
        "  for row in x:\n",
        "    type(row)\n",
        "type(row)"
      ],
      "execution_count": 7,
      "outputs": [
        {
          "output_type": "stream",
          "text": [
            "<class 'str'>\n"
          ],
          "name": "stdout"
        },
        {
          "output_type": "execute_result",
          "data": {
            "text/plain": [
              "list"
            ]
          },
          "metadata": {
            "tags": []
          },
          "execution_count": 7
        }
      ]
    },
    {
      "cell_type": "code",
      "metadata": {
        "id": "dQH59DpmTqss",
        "colab_type": "code",
        "colab": {}
      },
      "source": [
        "import csv\n",
        "\n",
        "# 開啟 CSV 檔案\n",
        "with open('./data/examples.csv', newline='') as csvfile:\n",
        "    # 讀取 CSV 檔案內容\n",
        "    rows = csv.reader(csvfile)\n",
        "    # 以迴圈輸出每一列\n",
        "    for row in rows:\n",
        "      type(row)\n",
        "      #print(row)"
      ],
      "execution_count": 0,
      "outputs": []
    },
    {
      "cell_type": "code",
      "metadata": {
        "id": "Ifg7tWgnTqs7",
        "colab_type": "code",
        "colab": {}
      },
      "source": [
        "# 1. 取出班次一的每一個時間\n",
        "\n",
        "with open('./data/examples.csv', newline='') as csvfile:\n",
        "    # 讀取 CSV 檔案內容\n",
        "    rows = csv.reader(csvfile)\n",
        "    # 以迴圈輸出每一列\n",
        "    for row in rows:\n",
        "      type(row)\n",
        "      #print(row[3],'  ', row[4],  '  ', row[5])"
      ],
      "execution_count": 0,
      "outputs": []
    },
    {
      "cell_type": "code",
      "metadata": {
        "id": "WKrS6eOTTqtO",
        "colab_type": "code",
        "outputId": "39bd731c-dad8-4424-fac7-22bd87b40fe4",
        "colab": {
          "base_uri": "https://localhost:8080/",
          "height": 54
        }
      },
      "source": [
        "# 2. 將班次一的每一個時間用一種資料型態保存\n",
        "\n",
        "\n",
        "earliestbus = []\n",
        "with open('./data/examples.csv') as f:\n",
        "  # 讀取 CSV 檔案內容\n",
        "  rows = csv.reader(f)\n",
        "  # 以迴圈輸出每一列\n",
        "  for row in rows:\n",
        "    earliestbus.append(row[5])\n",
        "print(earliestbus)"
      ],
      "execution_count": 12,
      "outputs": [
        {
          "output_type": "stream",
          "text": [
            "['班次1', '06:30', '06:32', '06:33', '06:34', '06:36', '06:38', '06:39', '06:41', '06:42', '06:43', '06:44', '06:45', '06:46', '06:47', '06:48', '06:49', '06:50', '06:51', '06:53', '06:55', '06:57', '06:58', '07:00', '07:01', '07:03', '07:05', '07:07', '07:09', '07:10', '07:12', '07:14', '07:16', '07:18', '07:20', '07:21', '07:23', '07:24', '07:25', '07:00', '07:02', '07:03', '07:04', '07:06', '07:08', '07:09', '07:11', '07:12', '07:13', '07:14', '07:15', '07:16', '07:17', '07:18', '07:19', '07:20', '07:21', '07:23', '07:25', '07:27', '07:28', '07:30', '07:31', '07:33', '07:35', '07:37', '07:39', '07:40', '07:42', '07:44', '07:46', '07:48', '07:49', '07:51', '07:53', '07:54', '07:55']\n"
          ],
          "name": "stdout"
        }
      ]
    },
    {
      "cell_type": "code",
      "metadata": {
        "id": "ag9RAh7OTqtb",
        "colab_type": "code",
        "outputId": "2627b78d-a807-4b0b-b777-03e2002a7d82",
        "colab": {
          "base_uri": "https://localhost:8080/",
          "height": 1000
        }
      },
      "source": [
        "# 3. 將班次一到五與其所有時間用一種資料型態個別保存\n",
        "\n",
        "'''\n",
        "b1 = []\n",
        "b2 = []\n",
        "b3 = []\n",
        "b4 = []\n",
        "b5 = []\n",
        "\n",
        "with open('./data/examples.csv') as f:\n",
        "  rows = csv.reader(f)\n",
        "  for row in rows:\n",
        "    b1.append(row[5])\n",
        "    b2.append(row[6])\n",
        "    b3.append(row[7])\n",
        "    b4.append(row[8])\n",
        "    b5.append(row[9])\n",
        "\n",
        "bus = {}\n",
        "# bn[0] is columns' name\n",
        "bus[b1[0]] = b1[1:]\n",
        "bus[b2[0]] = b2[1:]\n",
        "bus[b3[0]] = b3[1:]\n",
        "bus[b4[0]] = b4[1:]\n",
        "bus[b5[0]] = b5[1:]\n",
        "\n",
        "'''\n",
        "# or below\n",
        "\n",
        "# 3. 將班次一到五與其所有時間用一種資料型態個別保存\n",
        "b1=[]\n",
        "b2=[]\n",
        "b3=[]\n",
        "b4=[]\n",
        "b5=[]\n",
        "b6=[]\n",
        "vec = []\n",
        "bus = []\n",
        "with open(\"./data/examples.csv\") as f:\n",
        "  xml = csv.reader(f)\n",
        "  for i in xml:\n",
        "    vec = [i[j] for j in range(4, 10)]\n",
        "    bus.append(vec)\n",
        "bus\n",
        "    "
      ],
      "execution_count": 14,
      "outputs": [
        {
          "output_type": "execute_result",
          "data": {
            "text/plain": [
              "[['站名', '班次1', '班次2', '班次3', '班次4', '班次5'],\n",
              " ['香山區公所', '06:30', '07:50', '09:10', '10:30', '12:00'],\n",
              " ['香山國小', '06:32', '07:52', '09:12', '10:32', '12:02'],\n",
              " ['聖德宮', '06:33', '07:53', '09:13', '10:33', '12:03'],\n",
              " ['頂埔社區', '06:34', '07:55', '09:15', '10:35', '12:05'],\n",
              " ['大鵬新城', '06:36', '07:57', '09:17', '10:37', '12:07'],\n",
              " ['台貿四村', '06:38', '07:59', '09:19', '10:39', '12:09'],\n",
              " ['天公壇', '06:39', '08:01', '09:21', '10:41', '12:11'],\n",
              " ['中山路', '06:41', '08:03', '09:23', '10:43', '12:13'],\n",
              " ['西門口', '06:42', '08:04', '09:24', '10:44', '12:14'],\n",
              " ['西門市場', '06:43', '08:05', '09:25', '10:45', '12:15'],\n",
              " ['民富國小', '06:44', '08:06', '09:26', '10:46', '12:16'],\n",
              " ['消防局', '06:45', '08:07', '09:27', '10:47', '12:17'],\n",
              " ['竹光3站', '06:46', '08:08', '09:28', '10:48', '12:18'],\n",
              " ['竹光2站', '06:47', '08:09', '09:29', '10:49', '12:19'],\n",
              " ['竹光1站', '06:48', '08:10', '09:30', '10:50', '12:20'],\n",
              " ['國軍醫院', '06:49', '08:11', '09:31', '10:51', '12:21'],\n",
              " ['武陵社區', '06:50', '08:12', '09:32', '10:52', '12:22'],\n",
              " ['湳中街口', '06:51', '08:13', '09:33', '10:53', '12:23'],\n",
              " ['大潤發', '06:53', '08:15', '09:35', '10:55', '12:25'],\n",
              " ['光華國中', '06:55', '08:17', '09:37', '10:57', '12:27'],\n",
              " ['金華里', '06:57', '08:19', '09:39', '10:59', '12:29'],\n",
              " ['新竹醫院', '06:58', '08:21', '09:41', '11:01', '12:31'],\n",
              " ['果菜市場', '07:00', '08:23', '09:43', '11:03', '12:33'],\n",
              " ['經國北大路口', '07:01', '08:24', '09:44', '11:04', '12:34'],\n",
              " ['民生中央路口', '07:03', '08:26', '09:46', '11:06', '12:36'],\n",
              " ['民生民族路口', '07:05', '08:28', '09:48', '11:08', '12:38'],\n",
              " ['國賓大飯店', '07:07', '08:30', '09:50', '11:10', '12:40'],\n",
              " ['新竹女中', '07:09', '08:32', '09:52', '11:12', '12:42'],\n",
              " ['火車站', '07:10', '08:33', '09:53', '11:13', '12:43'],\n",
              " ['南門市場', '07:12', '08:35', '09:55', '11:15', '12:45'],\n",
              " ['國泰醫院', '07:14', '08:37', '09:57', '11:17', '12:47'],\n",
              " ['林森路口', '07:16', '08:39', '09:59', '11:19', '12:49'],\n",
              " ['警光路', '07:18', '08:41', '10:01', '11:21', '12:51'],\n",
              " ['信義幼稚園', '07:20', '08:43', '10:03', '11:23', '12:53'],\n",
              " ['頂埔社區', '07:21', '08:45', '10:05', '11:25', '12:55'],\n",
              " ['聖德宮', '07:23', '08:47', '10:07', '11:27', '12:57'],\n",
              " ['香山國小', '07:24', '08:49', '10:09', '11:29', '12:59'],\n",
              " ['香山區公所', '07:25', '08:50', '10:10', '11:30', '13:00'],\n",
              " ['香山區公所', '07:00', '08:50', '10:10', '11:30', '13:00'],\n",
              " ['香山國小', '07:02', '08:52', '10:12', '11:32', '13:02'],\n",
              " ['聖德宮', '07:03', '08:53', '10:13', '11:33', '13:03'],\n",
              " ['頂埔社區', '07:04', '08:55', '10:15', '11:35', '13:05'],\n",
              " ['大鵬新城', '07:06', '08:57', '10:17', '11:37', '13:07'],\n",
              " ['台貿四村', '07:08', '08:59', '10:19', '11:39', '13:09'],\n",
              " ['天公壇', '07:09', '09:01', '10:21', '11:41', '13:11'],\n",
              " ['中山路', '07:11', '09:03', '10:23', '11:43', '13:13'],\n",
              " ['西門口', '07:12', '09:04', '10:24', '11:44', '13:14'],\n",
              " ['西門市場', '07:13', '09:05', '10:25', '11:45', '13:15'],\n",
              " ['民富國小', '07:14', '09:06', '10:26', '11:46', '13:16'],\n",
              " ['消防局', '07:15', '09:07', '10:27', '11:47', '13:17'],\n",
              " ['竹光3站', '07:16', '09:08', '10:28', '11:48', '13:18'],\n",
              " ['竹光2站', '07:17', '09:09', '10:29', '11:49', '13:19'],\n",
              " ['竹光1站', '07:18', '09:10', '10:30', '11:50', '13:20'],\n",
              " ['國軍醫院', '07:19', '09:11', '10:31', '11:51', '13:21'],\n",
              " ['武陵社區', '07:20', '09:12', '10:32', '11:52', '13:22'],\n",
              " ['湳中街口', '07:21', '09:13', '10:33', '11:53', '13:23'],\n",
              " ['大潤發', '07:23', '09:15', '10:35', '11:55', '13:25'],\n",
              " ['光華國中', '07:25', '09:17', '10:37', '11:57', '13:27'],\n",
              " ['金華里', '07:27', '09:19', '10:39', '11:59', '13:29'],\n",
              " ['新竹醫院', '07:28', '09:21', '10:41', '12:01', '13:31'],\n",
              " ['果菜市場', '07:30', '09:23', '10:43', '12:03', '13:33'],\n",
              " ['經國北大路口', '07:31', '09:24', '10:44', '12:04', '13:34'],\n",
              " ['民生中央路口', '07:33', '09:26', '10:46', '12:06', '13:36'],\n",
              " ['民生民族路口', '07:35', '09:28', '10:48', '12:08', '13:38'],\n",
              " ['國賓大飯店', '07:37', '09:30', '10:50', '12:10', '13:40'],\n",
              " ['新竹女中', '07:39', '09:32', '10:52', '12:12', '13:42'],\n",
              " ['火車站', '07:40', '09:33', '10:53', '12:13', '13:43'],\n",
              " ['南門市場', '07:42', '09:35', '10:55', '12:15', '13:45'],\n",
              " ['國泰醫院', '07:44', '09:37', '10:57', '12:17', '13:47'],\n",
              " ['林森路口', '07:46', '09:39', '10:59', '12:19', '13:49'],\n",
              " ['警光路', '07:48', '09:41', '11:01', '12:21', '13:51'],\n",
              " ['信義幼稚園', '07:49', '09:43', '11:03', '12:23', '13:53'],\n",
              " ['頂埔社區', '07:51', '09:45', '11:05', '12:25', '13:55'],\n",
              " ['聖德宮', '07:53', '09:47', '11:07', '12:27', '13:57'],\n",
              " ['香山國小', '07:54', '09:49', '11:09', '12:29', '13:59'],\n",
              " ['香山區公所', '07:55', '09:50', '11:10', '12:30', '14:00']]"
            ]
          },
          "metadata": {
            "tags": []
          },
          "execution_count": 14
        }
      ]
    },
    {
      "cell_type": "code",
      "metadata": {
        "id": "sVbBJEUrTqtk",
        "colab_type": "code",
        "colab": {}
      },
      "source": [
        ""
      ],
      "execution_count": 0,
      "outputs": []
    }
  ]
}