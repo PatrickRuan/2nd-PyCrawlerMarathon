{
  "nbformat": 4,
  "nbformat_minor": 0,
  "metadata": {
    "kernelspec": {
      "display_name": "Python 3",
      "language": "python",
      "name": "python3"
    },
    "language_info": {
      "codemirror_mode": {
        "name": "ipython",
        "version": 3
      },
      "file_extension": ".py",
      "mimetype": "text/x-python",
      "name": "python",
      "nbconvert_exporter": "python",
      "pygments_lexer": "ipython3",
      "version": "3.6.5"
    },
    "colab": {
      "name": "Day003_HW.ipynb",
      "provenance": [],
      "include_colab_link": true
    }
  },
  "cells": [
    {
      "cell_type": "markdown",
      "metadata": {
        "id": "view-in-github",
        "colab_type": "text"
      },
      "source": [
        "<a href=\"https://colab.research.google.com/github/PatrickRuan/2nd-PyCrawlerMarathon/blob/master/Day003_HW.ipynb\" target=\"_parent\"><img src=\"https://colab.research.google.com/assets/colab-badge.svg\" alt=\"Open In Colab\"/></a>"
      ]
    },
    {
      "cell_type": "markdown",
      "metadata": {
        "id": "q-Qai7LFgIEf",
        "colab_type": "text"
      },
      "source": [
        "# Python 下載XML檔案與解析\n",
        "\n",
        "\n",
        "* 了解 xml 檔案格式與內容\n",
        "* 能夠利用套件存取 xml 格式的檔案\n"
      ]
    },
    {
      "cell_type": "markdown",
      "metadata": {
        "id": "Vp6dVcACgIEh",
        "colab_type": "text"
      },
      "source": [
        "## 作業目標\n",
        "\n",
        "* 比較一下範例檔案中的「File I/O」與「xmltodict」讀出來的內容有什麼差異\n",
        "\n",
        "* 根據範例檔案的結果：\n",
        "    1. 請問高雄市有多少地區有溫度資料？\n",
        "    2. 請取出每一個地區所記錄的第一個時間點跟溫度\n",
        "    3. 請取出第一個地區所記錄的每一個時間點跟溫度"
      ]
    },
    {
      "cell_type": "code",
      "metadata": {
        "id": "ndRjlytNgQiS",
        "colab_type": "code",
        "colab": {
          "base_uri": "https://localhost:8080/",
          "height": 34
        },
        "outputId": "c56b564e-9c9a-4b44-c3d4-bc126ab351cf"
      },
      "source": [
        "from urllib.request import urlretrieve\n",
        "!mkdir data\n",
        "urlretrieve( \"http://opendata.cwb.gov.tw/govdownload?dataid=F-D0047-093&authorizationkey=rdec-key-123-45678-011121314\", './data/sample.zip')\n",
        "import zipfile \n",
        "zipf = zipfile.ZipFile('./data/sample.zip')\n",
        "zipf.extractall('./data/')"
      ],
      "execution_count": 3,
      "outputs": [
        {
          "output_type": "stream",
          "text": [
            "mkdir: cannot create directory ‘data’: File exists\n"
          ],
          "name": "stdout"
        }
      ]
    },
    {
      "cell_type": "code",
      "metadata": {
        "id": "EsJ9k_Y8hXuM",
        "colab_type": "code",
        "colab": {
          "base_uri": "https://localhost:8080/",
          "height": 816
        },
        "outputId": "af04243a-fd40-4040-dc7e-d2c621025d27"
      },
      "source": [
        "!ls data"
      ],
      "execution_count": 4,
      "outputs": [
        {
          "output_type": "stream",
          "text": [
            "09007_72hr_CH.xml     10009_Weekday_EN.xml  10020_Weekday_CH.xml\n",
            "09007_72hr_EN.xml     10010_72hr_CH.xml     10020_Weekday_EN.xml\n",
            "09007_Week24_CH.xml   10010_72hr_EN.xml     63_72hr_CH.xml\n",
            "09007_Week24_EN.xml   10010_Week24_CH.xml   63_72hr_EN.xml\n",
            "09007_Weekday_CH.xml  10010_Week24_EN.xml   63_Week24_CH.xml\n",
            "09007_Weekday_EN.xml  10010_Weekday_CH.xml  63_Week24_EN.xml\n",
            "09020_72hr_CH.xml     10010_Weekday_EN.xml  63_Weekday_CH.xml\n",
            "09020_72hr_EN.xml     10013_72hr_CH.xml     63_Weekday_EN.xml\n",
            "09020_Week24_CH.xml   10013_72hr_EN.xml     64_72hr_CH.xml\n",
            "09020_Week24_EN.xml   10013_Week24_CH.xml   64_72hr_EN.xml\n",
            "09020_Weekday_CH.xml  10013_Week24_EN.xml   64_Week24_CH.xml\n",
            "09020_Weekday_EN.xml  10013_Weekday_CH.xml  64_Week24_EN.xml\n",
            "10002_72hr_CH.xml     10013_Weekday_EN.xml  64_Weekday_CH.xml\n",
            "10002_72hr_EN.xml     10014_72hr_CH.xml     64_Weekday_EN.xml\n",
            "10002_Week24_CH.xml   10014_72hr_EN.xml     65_72hr_CH.xml\n",
            "10002_Week24_EN.xml   10014_Week24_CH.xml   65_72hr_EN.xml\n",
            "10002_Weekday_CH.xml  10014_Week24_EN.xml   65_Week24_CH.xml\n",
            "10002_Weekday_EN.xml  10014_Weekday_CH.xml  65_Week24_EN.xml\n",
            "10004_72hr_CH.xml     10014_Weekday_EN.xml  65_Weekday_CH.xml\n",
            "10004_72hr_EN.xml     10015_72hr_CH.xml     65_Weekday_EN.xml\n",
            "10004_Week24_CH.xml   10015_72hr_EN.xml     66_72hr_CH.xml\n",
            "10004_Week24_EN.xml   10015_Week24_CH.xml   66_72hr_EN.xml\n",
            "10004_Weekday_CH.xml  10015_Week24_EN.xml   66_Week24_CH.xml\n",
            "10004_Weekday_EN.xml  10015_Weekday_CH.xml  66_Week24_EN.xml\n",
            "10005_72hr_CH.xml     10015_Weekday_EN.xml  66_Weekday_CH.xml\n",
            "10005_72hr_EN.xml     10016_72hr_CH.xml     66_Weekday_EN.xml\n",
            "10005_Week24_CH.xml   10016_72hr_EN.xml     67_72hr_CH.xml\n",
            "10005_Week24_EN.xml   10016_Week24_CH.xml   67_72hr_EN.xml\n",
            "10005_Weekday_CH.xml  10016_Week24_EN.xml   67_Week24_CH.xml\n",
            "10005_Weekday_EN.xml  10016_Weekday_CH.xml  67_Week24_EN.xml\n",
            "10007_72hr_CH.xml     10016_Weekday_EN.xml  67_Weekday_CH.xml\n",
            "10007_72hr_EN.xml     10017_72hr_CH.xml     67_Weekday_EN.xml\n",
            "10007_Week24_CH.xml   10017_72hr_EN.xml     68_72hr_CH.xml\n",
            "10007_Week24_EN.xml   10017_Week24_CH.xml   68_72hr_EN.xml\n",
            "10007_Weekday_CH.xml  10017_Week24_EN.xml   68_Week24_CH.xml\n",
            "10007_Weekday_EN.xml  10017_Weekday_CH.xml  68_Week24_EN.xml\n",
            "10008_72hr_CH.xml     10017_Weekday_EN.xml  68_Weekday_CH.xml\n",
            "10008_72hr_EN.xml     10018_72hr_CH.xml     68_Weekday_EN.xml\n",
            "10008_Week24_CH.xml   10018_72hr_EN.xml     sample.zip\n",
            "10008_Week24_EN.xml   10018_Week24_CH.xml   TAIWAN_72hr_CH.xml\n",
            "10008_Weekday_CH.xml  10018_Week24_EN.xml   TAIWAN_72hr_EN.xml\n",
            "10008_Weekday_EN.xml  10018_Weekday_CH.xml  TAIWAN_Week24_CH.xml\n",
            "10009_72hr_CH.xml     10018_Weekday_EN.xml  TAIWAN_Week24_EN.xml\n",
            "10009_72hr_EN.xml     10020_72hr_CH.xml     TAIWAN_Weekday_CH.xml\n",
            "10009_Week24_CH.xml   10020_72hr_EN.xml     TAIWAN_Weekday_EN.xml\n",
            "10009_Week24_EN.xml   10020_Week24_CH.xml\n",
            "10009_Weekday_CH.xml  10020_Week24_EN.xml\n"
          ],
          "name": "stdout"
        }
      ]
    },
    {
      "cell_type": "markdown",
      "metadata": {
        "id": "NwBIkphrgIEh",
        "colab_type": "text"
      },
      "source": [
        "### 比較一下範例檔案中的「File I/O」與「xmltodict」讀出來的內容有什麼差異\n"
      ]
    },
    {
      "cell_type": "code",
      "metadata": {
        "id": "h-hKSkTNgIEi",
        "colab_type": "code",
        "colab": {}
      },
      "source": [
        "'''\n",
        "Your Code\n",
        "'''"
      ],
      "execution_count": 0,
      "outputs": []
    },
    {
      "cell_type": "markdown",
      "metadata": {
        "id": "oa9d6QEVgIEn",
        "colab_type": "text"
      },
      "source": [
        "### 根據範例檔案的結果：\n",
        "\n",
        "1. 請問高雄市有多少地區有溫度資料？\n",
        "2. 請取出每一個地區所記錄的第一個時間點跟溫度\n",
        "3. 請取出第一個地區所記錄的每一個時間點跟溫度"
      ]
    },
    {
      "cell_type": "code",
      "metadata": {
        "id": "nTvyGgCTgIEo",
        "colab_type": "code",
        "colab": {
          "base_uri": "https://localhost:8080/",
          "height": 85
        },
        "outputId": "49571f19-9442-4c02-d4e3-40ff12f918dd"
      },
      "source": [
        "# 1. 請問高雄市有多少地區有溫度資料？\n",
        "!pip install xmltodict\n",
        "import xmltodict\n"
      ],
      "execution_count": 5,
      "outputs": [
        {
          "output_type": "stream",
          "text": [
            "Collecting xmltodict\n",
            "  Downloading https://files.pythonhosted.org/packages/28/fd/30d5c1d3ac29ce229f6bdc40bbc20b28f716e8b363140c26eff19122d8a5/xmltodict-0.12.0-py2.py3-none-any.whl\n",
            "Installing collected packages: xmltodict\n",
            "Successfully installed xmltodict-0.12.0\n"
          ],
          "name": "stdout"
        }
      ]
    },
    {
      "cell_type": "code",
      "metadata": {
        "id": "NLjtK2VMgIEw",
        "colab_type": "code",
        "colab": {}
      },
      "source": [
        "# 2. 請取出每一個地區所記錄的第一個時間點跟溫度\n",
        "\n",
        "'''\n",
        "Your Code\n",
        "'''"
      ],
      "execution_count": 0,
      "outputs": []
    },
    {
      "cell_type": "code",
      "metadata": {
        "id": "_ePL_uP-gIEz",
        "colab_type": "code",
        "colab": {}
      },
      "source": [
        "# 3. 請取出第一個地區所記錄的每一個時間點跟溫度\n",
        "\n",
        "'''\n",
        "Your Code\n",
        "'''"
      ],
      "execution_count": 0,
      "outputs": []
    },
    {
      "cell_type": "code",
      "metadata": {
        "id": "-CeN-byCgIE2",
        "colab_type": "code",
        "colab": {}
      },
      "source": [
        ""
      ],
      "execution_count": 0,
      "outputs": []
    }
  ]
}