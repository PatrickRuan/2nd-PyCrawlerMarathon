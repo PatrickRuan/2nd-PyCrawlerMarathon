{
  "nbformat": 4,
  "nbformat_minor": 0,
  "metadata": {
    "kernelspec": {
      "display_name": "Python 3",
      "language": "python",
      "name": "python3"
    },
    "language_info": {
      "codemirror_mode": {
        "name": "ipython",
        "version": 3
      },
      "file_extension": ".py",
      "mimetype": "text/x-python",
      "name": "python",
      "nbconvert_exporter": "python",
      "pygments_lexer": "ipython3",
      "version": "3.6.5"
    },
    "colab": {
      "name": "Day006_HW.ipynb",
      "provenance": [],
      "include_colab_link": true
    }
  },
  "cells": [
    {
      "cell_type": "markdown",
      "metadata": {
        "id": "view-in-github",
        "colab_type": "text"
      },
      "source": [
        "<a href=\"https://colab.research.google.com/github/PatrickRuan/2nd-PyCrawlerMarathon/blob/master/Day006_HW.ipynb\" target=\"_parent\"><img src=\"https://colab.research.google.com/assets/colab-badge.svg\" alt=\"Open In Colab\"/></a>"
      ]
    },
    {
      "cell_type": "markdown",
      "metadata": {
        "id": "zYnxnXhAb1Xe",
        "colab_type": "text"
      },
      "source": [
        "# API 資料串接 - 以 知乎 API 實作範例\n",
        "\n",
        "\n",
        "\n",
        "* 了解知乎 API 使用方式與回傳內容\n",
        "* 撰寫程式存取 API 且添加標頭\n",
        "\n",
        "\n"
      ]
    },
    {
      "cell_type": "markdown",
      "metadata": {
        "id": "xTYk4GgOb1Xh",
        "colab_type": "text"
      },
      "source": [
        "## 作業目標\n",
        "\n",
        "* 根據範例提供的 API ，完成以下問題：\n",
        "\n",
        "    1. 取出知乎問題發問時間\n",
        "    2. 取出第一筆與最後一筆回答的時間\n"
      ]
    },
    {
      "cell_type": "markdown",
      "metadata": {
        "id": "QPXadmZkb1Xl",
        "colab_type": "text"
      },
      "source": [
        "### 1. 取出知乎問題發問時間"
      ]
    },
    {
      "cell_type": "code",
      "metadata": {
        "id": "7H8dQ82Yb1Xn",
        "colab_type": "code",
        "colab": {
          "base_uri": "https://localhost:8080/",
          "height": 102
        },
        "outputId": "5c9c66a4-3830-4dc9-9703-a91adcfff254"
      },
      "source": [
        "# 1. 取出知乎問題發問時間\n",
        "\n",
        "\n",
        "import requests\n",
        "headers = {'user-agent': 'my-app/0.0.1'}\n",
        "r = requests.get('https://www.zhihu.com/api/v4/questions/55493026/answers',headers=headers)\n",
        "\n",
        "import json\n",
        "data = json.loads(r.text)\n",
        "\n",
        "for d in data['data']:\n",
        "    print(d['created_time'])"
      ],
      "execution_count": 3,
      "outputs": [
        {
          "output_type": "stream",
          "text": [
            "1554085028\n",
            "1557824412\n",
            "1585227854\n",
            "1493693113\n",
            "1572318426\n"
          ],
          "name": "stdout"
        }
      ]
    },
    {
      "cell_type": "markdown",
      "metadata": {
        "id": "DwYTOlQ8b1Xx",
        "colab_type": "text"
      },
      "source": [
        "### 2. 取出第一筆與最後一筆回答的時間"
      ]
    },
    {
      "cell_type": "code",
      "metadata": {
        "id": "LK7EBZ_2b1X0",
        "colab_type": "code",
        "colab": {
          "base_uri": "https://localhost:8080/",
          "height": 51
        },
        "outputId": "fa1583df-c3e0-483a-dd81-f5b854db2b9f"
      },
      "source": [
        "# 2. 取出第一筆與最後一筆回答的時間\n",
        "\n",
        "print(data['data'][0]['created_time'])\n",
        "print(data['data'][4]['created_time'])"
      ],
      "execution_count": 5,
      "outputs": [
        {
          "output_type": "stream",
          "text": [
            "1554085028\n",
            "1572318426\n"
          ],
          "name": "stdout"
        }
      ]
    },
    {
      "cell_type": "code",
      "metadata": {
        "id": "Cd3dBQBcb1X7",
        "colab_type": "code",
        "colab": {}
      },
      "source": [
        ""
      ],
      "execution_count": 0,
      "outputs": []
    },
    {
      "cell_type": "code",
      "metadata": {
        "id": "XAAO377bb1YA",
        "colab_type": "code",
        "colab": {}
      },
      "source": [
        ""
      ],
      "execution_count": 0,
      "outputs": []
    },
    {
      "cell_type": "code",
      "metadata": {
        "id": "eQpduC3vb1YI",
        "colab_type": "code",
        "colab": {}
      },
      "source": [
        ""
      ],
      "execution_count": 0,
      "outputs": []
    }
  ]
}